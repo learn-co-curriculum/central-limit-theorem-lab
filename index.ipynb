{
 "cells": [
  {
   "cell_type": "markdown",
   "metadata": {},
   "source": [
    "# Central Limit Theorem Lab\n",
    "\n",
    "## Using Central Limit Theorem on Non-Normally Distributed Datasets\n",
    "\n",
    "\n",
    "## Objectives\n",
    "\n",
    "* Run code to generate a non-normal data set.  \n",
    "* Create a function for sampling data with replacement.\n",
    "* Generate and visualize a **_Sample Distribution of Sample Means_** that approximates a normal distribution.\n",
    "\n",
    "## Introduction: Normal Distribution\n",
    "\n",
    "If you've ever taken an introductory statistics course before, you're probably already somewhat familiar with the **_Normal Distribution_**.  You may also be familiar with it under the name **_Bell Curve_**, or even **_Guassian Distribution_**--they all mean the same thing.  \n",
    "\n",
    "The normal distribution is extremely important in math and statistics, because it is very well studied.  When our data set is **_normally distributed_**, we immediately gain a ton of information about our dataset.  For instance, we can figure out the probability that a data point will have a certain value by calculating it's Z-score, and converting that to a probability.  The normal distribution is _extremely helpful_ to data scientists--there's generally no distribution you'd rather see when exploring a data set.  \n",
    "\n",
    "<center><img src='normal-distrubution-large.svg'>\n",
    "    <br>\n",
    "    _This graphic from [Math is Fun](https://www.mathsisfun.com/data/standard-normal-distribution.html) shows the what percentage of total data to how many standard deviations it is from the mean._</center>\n",
    "\n",
    "\n",
    "As you can see from the graphic above, the normal distribution makes it easy to find out very detailed information about a dataset.  The example image above is special, because it is a graph of the **_Standard Normal Distribution_**.  This means that the bell curve is centered directly on the mean, with the variance equally spread out to the left and right of it.  In statistical terms, we would say that this bell curve has a \"mean of zero and unit variance\".  \n",
    "\n",
    "Compare the graph above to the examples--these distributions are still normally distributed, but are **_skewed_**.   \n",
    "<br>  \n",
    "<center><img src='skew.jpg'>\n",
    "    <br>  \n",
    "    _Note that we can describe the skew as **left** or **right**, depending on which side has a longer \"tail\"._</center>\n",
    "\n",
    "Skew can be natural in the distribution of a data set, but often, it just means that there are outliers present in the dataset.  Dealing with the outliers will remove (or at least reduce) the skew.  \n",
    "\n",
    "## Non-Normal Distributions\n",
    "\n",
    "Often, you'll run across data sets that do not follow the normal distribution. This means extra work for us, because now we can't reliably know things like point probability or probability density.  One of the most common non-normal distributions you'll see is the **_Uniform Distribution_**.  \n",
    "\n",
    "<br>  \n",
    "<center><img src='uniform.png'>\n",
    "    _In the Uniform Distribution, all values generally appear with roughly the same frequency, with some variance._</center>\n",
    "\n",
    "\n",
    "More often, you'll run into data sets that don't fall into any of the main statistical distributions.  Often, these data sets will just be all over the place.  \n",
    "  \n",
    "<br> \n",
    "<center><img src='nonnormal.png'></center>\n",
    "\n",
    "As much as we would love to use all the handy stats tricks here that we can use a normal distribution, it's just not possible in it's current format.  \n",
    "\n",
    "This is where the **_Central Limit Theorem_** comes in!\n",
    "\n",
    "## Central Limit Theorem\n",
    "\n",
    "The **_Central Limit Theorem_** allows us to treat non-normally distributed datasets as normally distributed, by using a handy sampling-with-replacement method.  \n",
    "\n",
    "It works like this:\n",
    "\n",
    "1. Grab a sample of _N_ examples from your dataset\n",
    "2. Compute the mean of this sample and store it in a new distribution for sample means.\n",
    "3. Repeat!\n",
    "\n",
    "With a large enough value for N (N=30 is usually enough for the CLT to kick in) and enough sample means, we'll see the **_Sample Distribution of Sample Means_** begin to approximate a normal distribution! We can then use this sample distribution to answer questions quickly using the all of our normal distribution tricks. \n",
    "\n",
    "For this lab, we'll create a non-normally distributed dataset, and then we'll write two functions to help us create our sample distribution of sample means. Let's get started!\n",
    "\n",
    "Run the cell below to import the packages you'll need, as well as set a random seed for reproducibility."
   ]
  },
  {
   "cell_type": "code",
   "execution_count": 1,
   "metadata": {},
   "outputs": [],
   "source": [
    "import numpy as np\n",
    "import pandas as pd\n",
    "import matplotlib.pyplot as plt\n",
    "%matplotlib inline\n",
    "\n",
    "# Please dont change this--otherwise, you'll get different results from everyone else!\n",
    "np.random.seed(1547)"
   ]
  },
  {
   "cell_type": "code",
   "execution_count": 2,
   "metadata": {},
   "outputs": [
    {
     "data": {
      "text/plain": [
       "(array([ 1019.,   915.,  1000.,  1024.,   973.,   979.,  1057.,  1014.,\n",
       "         1039.,   980.]),\n",
       " array([  0. ,   9.9,  19.8,  29.7,  39.6,  49.5,  59.4,  69.3,  79.2,\n",
       "         89.1,  99. ]),\n",
       " <a list of 10 Patch objects>)"
      ]
     },
     "execution_count": 2,
     "metadata": {},
     "output_type": "execute_result"
    },
    {
     "data": {
      "image/png": "[encoded data removed]",
      "text/plain": [
       "<matplotlib.figure.Figure at 0x26143512e10>"
      ]
     },
     "metadata": {},
     "output_type": "display_data"
    }
   ],
   "source": [
    "# Create a uniform distribution of 10000 integers between 0 and 100.\n",
    "non_normal_data = np.random.randint(low=0, high=100, size=10000)\n",
    "\n",
    "# Use plt.hist() to visualize our the distribution of our dummy data set\n",
    "plt.hist(non_normal_data)"
   ]
  },
  {
   "cell_type": "markdown",
   "metadata": {},
   "source": [
    "<center><h3>Creating a Sampling Function</h3></center>\n",
    "\n",
    "Now that we have created our data set, we'll need to sample from it.  In order to do this, you'll need to create two different functions--a `get_sample` to create random samples of size 'n', and a `create_sample_distribution` function to actually create a sample distribution of size `n` (using our helper function). \n",
    "\n",
    "Your `get_sample` function should:\n",
    "\n",
    "1.  Take a keyword argument for sample size (called 'n' for short)\n",
    "1.  Randomly grab 'n' samples from the uniform distribution with replacement (any samples selected should NOT be removed from the original data set).\n",
    "1.  Calculate the mean of the sub-sample and return it.\n",
    "\n",
    "\n",
    "Your `create_sample_distribution` function should:\n",
    "\n",
    "1.  Take a keyword argument for size, which will determine the total size of the sample distribution.\n",
    "1.  Use the `get_sample` helper function to create sample distributions and calculate sample mean.   \n",
    "1.  Store the sample mean.\n",
    "1.  Repeat this process until there a distribution of `[size]` sample means exist.  When the data set is complete, return it as a numpy array.  \n",
    "\n",
    "``` python\n",
    "def get_sample(dataset, n=30):\n",
    "    \"\"\"Grabs a random subsample of size 'n' from dataset.\n",
    "    Outputs the mean of the subsample.\"\"\"\n",
    "    pass\n",
    "\n",
    "def create_sample_distribution(dataset, size=100):\n",
    "    \"\"\"Creates a dataset of subsample means.  The length of the dataset is specified by the 'size' \n",
    "    keyword argument. Should return the entire sample distribution as a numpy array.  \"\"\"\n",
    "    pass\n",
    "```\n",
    "\n"
   ]
  },
  {
   "cell_type": "code",
   "execution_count": null,
   "metadata": {},
   "outputs": [],
   "source": [
    "# Complete the two functions below.  \n",
    "def get_sample(dataset, n=30):\n",
    "    \"\"\"Grabs a random subsample of size 'n' from dataset.\n",
    "    Outputs the mean of the subsample.\"\"\"\n",
    "    pass\n",
    "\n",
    "def create_sample_distribution(dataset, size=100):\n",
    "    \"\"\"Creates a dataset of subsample means.  The length of the dataset is specified by the 'size' \n",
    "    keyword argument. Should return the entire sample distribution as a numpy array.  \"\"\"\n",
    "    pass\n"
   ]
  },
  {
   "cell_type": "markdown",
   "metadata": {},
   "source": [
    "<center><h3>Visualizing our Sample Distribution</h3></center>\n",
    "\n",
    "Now that we have created our sample distribution, let's visualize it to determine if it's a normal distribution.  \n",
    "\n",
    "**TASK:** Use matplotlib to visualize our sample distribution."
   ]
  },
  {
   "cell_type": "code",
   "execution_count": null,
   "metadata": {},
   "outputs": [],
   "source": [
    "# Visualize our sample distribution below.\n",
    "# Remember, we aliased matplotlib.pyplot as plt!\n"
   ]
  },
  {
   "cell_type": "markdown",
   "metadata": {},
   "source": [
    "<center><h3>Great Job!</h3></center>\n",
    "\n",
    "Now that you've used the Central Limit Theorem, you're able to create to treat non-normally distributed datasets as normally distributed.  You can now compute Z-scores and compute probabilities for values in these datasets!  "
   ]
  }
 ],
 "metadata": {
  "kernelspec": {
   "display_name": "Python 3",
   "language": "python",
   "name": "python3"
  },
  "language_info": {
   "codemirror_mode": {
    "name": "ipython",
    "version": 3
   },
   "file_extension": ".py",
   "mimetype": "text/x-python",
   "name": "python",
   "nbconvert_exporter": "python",
   "pygments_lexer": "ipython3",
   "version": "3.6.4"
  }
 },
 "nbformat": 4,
 "nbformat_minor": 2
}
